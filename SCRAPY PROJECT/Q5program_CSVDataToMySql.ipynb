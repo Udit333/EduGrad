{
 "cells": [
  {
   "cell_type": "code",
   "execution_count": null,
   "metadata": {},
   "outputs": [],
   "source": [
    "import pymysql\n",
    " \n",
    "connection = pymysql.connect(\n",
    "    host='localhost',\n",
    "    user='root',\n",
    "    password='root@123',\n",
    "    db='edulab',\n",
    "    local_infile = 1\n",
    ")\n",
    "if (connection):\n",
    "    \n",
    "    print(\"Connection Successful\")\n",
    "else:\n",
    "    \n",
    "    print(\"Connection Unsuccessful\")\n",
    "\n",
    "try:\n",
    "    with connection.cursor() as cursor:\n",
    "        sql = \"LOAD DATA LOCAL INFILE '/Users/uditmehra/Scraping/tmp/naukri_dataanalytics.csv' INTO TABLE dataanalyst_ncr FIELDS TERMINATED BY ',' ENCLOSED BY '\\\"' LINES TERMINATED BY '\\n' IGNORE 1 ROWS (@col1,@col2,@col3,@col4,@col5,@col6,@col7,@col8,@col9) SET company_name=@col1,experience_required=@col2,job_description=@col3,job_title=@col4,keyskills=@col5,link_job_description=@col6,salary=@col9;\" \n",
    "        sqll = \"LOAD DATA LOCAL INFILE '/Users/uditmehra/Scraping/tmp/naukri_dataanalytics.csv' INTO TABLE location_jobs FIELDS TERMINATED BY ',' ENCLOSED BY '\\\"' LINES TERMINATED BY '\\n' IGNORE 1 ROWS (@col1,@col2,@col3,@col4,@col5,@col6,@col7,@col8,@col9) SET location=@col7;\"\n",
    "        \n",
    "        try:\n",
    "            cursor.execute(sql)\n",
    "            cursor.execute(sqll)\n",
    "            print(\"Task added Successfully!!\")\n",
    "        except:\n",
    "            \n",
    "            print(\"Oops! Something wrong\")\n",
    " \n",
    "    connection.commit()\n",
    "finally:\n",
    "    connection.close()"
   ]
  }
 ],
 "metadata": {
  "kernelspec": {
   "display_name": "Python 3",
   "language": "python",
   "name": "python3"
  },
  "language_info": {
   "codemirror_mode": {
    "name": "ipython",
    "version": 3
   },
   "file_extension": ".py",
   "mimetype": "text/x-python",
   "name": "python",
   "nbconvert_exporter": "python",
   "pygments_lexer": "ipython3",
   "version": "3.6.5"
  }
 },
 "nbformat": 4,
 "nbformat_minor": 2
}
